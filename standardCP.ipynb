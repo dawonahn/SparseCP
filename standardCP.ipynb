{
 "cells": [
  {
   "cell_type": "code",
   "execution_count": 19,
   "id": "d51ed9c4-475b-4fd9-a9af-5fab07963484",
   "metadata": {},
   "outputs": [],
   "source": [
    "# General purposes\n",
    "import numpy as np\n",
    "import pandas as pd\n",
    "from dotmap import DotMap\n",
    "\n",
    "import torch\n",
    "import torch.nn as nn\n",
    "import torch.optim as optim\n",
    "\n",
    "# Tensor decomposition\n",
    "import tensorly as tl\n",
    "from tensorly.cp_tensor import cp_to_tensor\n",
    "from tensorly import check_random_state\n",
    "\n",
    "# Plot\n",
    "import matplotlib.pyplot as plt\n",
    "import seaborn as sns"
   ]
  },
  {
   "cell_type": "code",
   "execution_count": 20,
   "id": "f39b2e7b-e142-49a6-84e2-b93c660c2cf1",
   "metadata": {},
   "outputs": [],
   "source": [
    "import torch.nn as nn"
   ]
  },
  {
   "cell_type": "code",
   "execution_count": 21,
   "id": "08a0be76-aad3-475a-8a00-6e1e43c928a9",
   "metadata": {},
   "outputs": [],
   "source": [
    "# Set devices, random sate, etc\n",
    "random_state = 1234\n",
    "rng = check_random_state(random_state)\n",
    "device = 'cuda:2'\n",
    "tl.set_backend('pytorch')"
   ]
  },
  {
   "cell_type": "code",
   "execution_count": 22,
   "id": "e683bdd0-e504-4387-9f85-10076bb138e1",
   "metadata": {},
   "outputs": [],
   "source": [
    "config = DotMap()\n",
    "config.data = 'ml'\n",
    "config.method = 'cp'"
   ]
  },
  {
   "cell_type": "markdown",
   "id": "0e9928fd-4e5c-40a2-903c-6b594d27ccfe",
   "metadata": {
    "tags": []
   },
   "source": [
    "### Step 0: Prepare sparse tensor as COO type"
   ]
  },
  {
   "cell_type": "code",
   "execution_count": 23,
   "id": "7ccd8d63-6e85-4a59-b405-31c397c1898a",
   "metadata": {},
   "outputs": [],
   "source": [
    "# Read train, validation, and test set from data directory\n",
    "path = f'data/ml'\n",
    "train_indices = np.load(f'{path}/train_indices.npy')\n",
    "train_vals = np.load(f'{path}/train_values.npy')\n",
    "\n",
    "valid_indices = np.load(f'{path}/valid_indices.npy')\n",
    "valid_vals = np.load(f'{path}/valid_values.npy')\n",
    "\n",
    "test_indices = np.load(f'{path}/test_indices.npy')\n",
    "test_vals = np.load(f'{path}/test_values.npy')"
   ]
  },
  {
   "cell_type": "code",
   "execution_count": 28,
   "id": "2e097430-8348-41f0-8544-5eaefaa73153",
   "metadata": {},
   "outputs": [],
   "source": [
    "# Make tensors in to COO types (to consider only nonzeros)\n",
    "train_i = torch.LongTensor(train_indices).to(device)\n",
    "train_v = torch.FloatTensor(train_vals).reshape(-1).to(device)\n",
    "\n",
    "valid_i = torch.LongTensor(valid_indices).to(device)\n",
    "valid_v = torch.FloatTensor(valid_vals).reshape(-1).to(device)\n",
    "\n",
    "test_i = torch.LongTensor(test_indices).to(device)\n",
    "test_v = torch.FloatTensor(test_vals).reshape(-1).to(device)\n",
    "\n",
    "stensor = torch.sparse.FloatTensor(train_i.t(), train_v.t()).coalesce()"
   ]
  },
  {
   "cell_type": "markdown",
   "id": "d0bb36c2-1e07-4b5b-8564-934844655369",
   "metadata": {
    "tags": []
   },
   "source": [
    "### Decompose tensors"
   ]
  },
  {
   "cell_type": "code",
   "execution_count": 29,
   "id": "2b6e1d0f-30d7-436d-990f-a1cbd992c8b0",
   "metadata": {},
   "outputs": [],
   "source": [
    "def krprod(indices, factors):\n",
    "    ''' Implement a Khatri Rao Product with nonzeros'''\n",
    "    \n",
    "    rank = factors[0].shape[-1] # dim x rank\n",
    "    nnz, _ = indices.shape # nnz x nmode\n",
    "    \n",
    "    # Compute the Khatri-Rao product for the chosen indices\n",
    "    sampled_kr = torch.ones((nnz, rank)).to(device)  # nnz x rank\n",
    "    for idx, factor in zip(indices.t(), factors): # nnz idx for each mode\n",
    "        sampled_kr = sampled_kr*factor[idx.data]\n",
    "\n",
    "    return sampled_kr.sum(1) # for each nonzero"
   ]
  },
  {
   "cell_type": "code",
   "execution_count": 30,
   "id": "a5086c33-028f-4ce6-9276-069703c42997",
   "metadata": {},
   "outputs": [],
   "source": [
    "# Hyper-parameter setting\n",
    "rank = 30\n",
    "n_iter = 10000\n",
    "lr = 1e-3\n",
    "penalty = 1e-2\n",
    "clusterk = 10\n",
    "\n",
    "config.rank = rank\n",
    "config.n_iter = n_iter\n",
    "config.lr = lr\n",
    "config.penalty = penalty\n",
    "config.clusterk = clusterk"
   ]
  },
  {
   "cell_type": "code",
   "execution_count": 31,
   "id": "74cbf5fc-a496-4827-ba69-57f0efc49d26",
   "metadata": {},
   "outputs": [
    {
     "name": "stdout",
     "output_type": "stream",
     "text": [
      "torch.Size([610, 9724, 4110])\n"
     ]
    }
   ],
   "source": [
    "# Initialize factor matrices\n",
    "nmodes = stensor.size()\n",
    "factors = [tl.tensor(rng.random_sample((i, rank)),\n",
    "            device=device, requires_grad=True) for i in nmodes]\n",
    "print(nmodes)"
   ]
  },
  {
   "cell_type": "code",
   "execution_count": 32,
   "id": "e8ca4f66-f84d-4890-a6db-3510ee5cd732",
   "metadata": {},
   "outputs": [],
   "source": [
    "# Optimizer to learn CPD\n",
    "opt = optim.Adam(factors, lr=lr)"
   ]
  },
  {
   "cell_type": "code",
   "execution_count": 22,
   "id": "c93e0411-abba-492f-bc1f-a86fbcf98f3e",
   "metadata": {},
   "outputs": [],
   "source": [
    "# Number of mode\n",
    "nmode = 3"
   ]
  },
  {
   "cell_type": "code",
   "execution_count": 33,
   "id": "a99cf3a8-2d66-49e6-b26e-4ac9bcd5f1b1",
   "metadata": {
    "tags": []
   },
   "outputs": [
    {
     "name": "stdout",
     "output_type": "stream",
     "text": [
      "Iters 10, Rec. error: 0.3318 Valid Rec. error: 0.3355\n",
      "Iters 20, Rec. error: 0.3087 Valid Rec. error: 0.3168\n",
      "Iters 30, Rec. error: 0.2895 Valid Rec. error: 0.3021\n",
      "Iters 40, Rec. error: 0.2737 Valid Rec. error: 0.2908\n",
      "Iters 50, Rec. error: 0.2607 Valid Rec. error: 0.2822\n",
      "Iters 60, Rec. error: 0.2499 Valid Rec. error: 0.2758\n",
      "Iters 70, Rec. error: 0.2410 Valid Rec. error: 0.2711\n",
      "Iters 80, Rec. error: 0.2334 Valid Rec. error: 0.2678\n",
      "Iters 90, Rec. error: 0.2269 Valid Rec. error: 0.2655\n",
      "Iters 100, Rec. error: 0.2213 Valid Rec. error: 0.2640\n",
      "Iters 110, Rec. error: 0.2163 Valid Rec. error: 0.2630\n",
      "Iters 120, Rec. error: 0.2118 Valid Rec. error: 0.2625\n",
      "Iters 130, Rec. error: 0.2077 Valid Rec. error: 0.2623\n",
      "Iters 140, Rec. error: 0.2038 Valid Rec. error: 0.2623\n"
     ]
    }
   ],
   "source": [
    "# Learn global information via CPD\n",
    "old_val_error =1e+5\n",
    "for i in range(1, n_iter):    \n",
    "    opt.zero_grad()\n",
    "    # Tensor rec loss\n",
    "    rec = krprod(train_i, factors)\n",
    "    loss = tl.norm(rec - train_v, 2)\n",
    "    for f in factors:\n",
    "        loss = loss + penalty * tl.norm(f, 2)\n",
    "    \n",
    "    loss.backward()\n",
    "    opt.step()\n",
    "    with torch.no_grad():\n",
    "        if i % 10 == 0:\n",
    "            rec_error = tl.norm(rec.data - train_v, 2) / tl.norm(train_v, 2)\n",
    "            val_rec = krprod(valid_i, factors)\n",
    "            val_error = tl.norm(val_rec.data - valid_v, 2) / tl.norm(valid_v, 2)\n",
    "            print(f\"Iters {i}, Rec. error: {rec_error:.4f} Valid Rec. error: {val_error:.4f}\")\n",
    "            if val_error >  old_val_error:\n",
    "                break\n",
    "            old_val_error = val_error"
   ]
  },
  {
   "cell_type": "code",
   "execution_count": 34,
   "id": "292f29b5-1fed-4748-8c35-95ae563001f3",
   "metadata": {},
   "outputs": [
    {
     "name": "stdout",
     "output_type": "stream",
     "text": [
      "Test NRE : 0.2593 Test RMSE: 0.9466\n"
     ]
    }
   ],
   "source": [
    "with torch.no_grad():\n",
    "    test_rec =  krprod(test_i, factors)\n",
    "test_nre = tl.norm(test_rec.data - test_v, 2) / tl.norm(test_v, 2)\n",
    "test_rmse = tl.sqrt(tl.mean((test_rec.data - test_v) ** 2))\n",
    "print(f\"Test NRE : {test_nre:.4f} Test RMSE: {test_rmse:.4f}\")\n",
    "\n",
    "# wandb.log({'test_nre': test_nre, 'test_rmse': test_rmse})\n",
    "# wandb.finish()"
   ]
  },
  {
   "cell_type": "code",
   "execution_count": null,
   "id": "b0b9846e-df99-44cb-be92-364727d037b6",
   "metadata": {},
   "outputs": [],
   "source": []
  }
 ],
 "metadata": {
  "kernelspec": {
   "display_name": "tensor",
   "language": "python",
   "name": "tensor"
  },
  "language_info": {
   "codemirror_mode": {
    "name": "ipython",
    "version": 3
   },
   "file_extension": ".py",
   "mimetype": "text/x-python",
   "name": "python",
   "nbconvert_exporter": "python",
   "pygments_lexer": "ipython3",
   "version": "3.9.15"
  }
 },
 "nbformat": 4,
 "nbformat_minor": 5
}
